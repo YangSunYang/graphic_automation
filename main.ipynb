{
  "nbformat": 4,
  "nbformat_minor": 0,
  "metadata": {
    "colab": {
      "provenance": []
    },
    "kernelspec": {
      "name": "python3",
      "display_name": "Python 3"
    },
    "language_info": {
      "name": "python"
    }
  },
  "cells": [
    {
      "cell_type": "code",
      "execution_count": null,
      "metadata": {
        "id": "d2zLY685cqAy",
        "colab": {
          "base_uri": "https://localhost:8080/"
        },
        "outputId": "0c0d87a6-be5b-4a47-d651-dfaa42af91a6"
      },
      "outputs": [
        {
          "output_type": "stream",
          "name": "stdout",
          "text": [
            "\u001b[?25l     \u001b[90m━━━━━━━━━━━━━━━━━━━━━━━━━━━━━━━━━━━━━━━━\u001b[0m \u001b[32m0.0/1.6 MB\u001b[0m \u001b[31m?\u001b[0m eta \u001b[36m-:--:--\u001b[0m\r\u001b[2K     \u001b[91m━━━\u001b[0m\u001b[91m╸\u001b[0m\u001b[90m━━━━━━━━━━━━━━━━━━━━━━━━━━━━━━━━━━━━\u001b[0m \u001b[32m0.1/1.6 MB\u001b[0m \u001b[31m5.4 MB/s\u001b[0m eta \u001b[36m0:00:01\u001b[0m\r\u001b[2K     \u001b[91m━━━━━━━━━━━━━━\u001b[0m\u001b[91m╸\u001b[0m\u001b[90m━━━━━━━━━━━━━━━━━━━━━━━━━\u001b[0m \u001b[32m0.6/1.6 MB\u001b[0m \u001b[31m8.6 MB/s\u001b[0m eta \u001b[36m0:00:01\u001b[0m\r\u001b[2K     \u001b[91m━━━━━━━━━━━━━━━━━━━━━━━━━━━━━\u001b[0m\u001b[90m╺\u001b[0m\u001b[90m━━━━━━━━━━\u001b[0m \u001b[32m1.2/1.6 MB\u001b[0m \u001b[31m11.2 MB/s\u001b[0m eta \u001b[36m0:00:01\u001b[0m\r\u001b[2K     \u001b[91m━━━━━━━━━━━━━━━━━━━━━━━━━━━━━━━━━━━━━━━\u001b[0m\u001b[91m╸\u001b[0m \u001b[32m1.6/1.6 MB\u001b[0m \u001b[31m12.5 MB/s\u001b[0m eta \u001b[36m0:00:01\u001b[0m\r\u001b[2K     \u001b[90m━━━━━━━━━━━━━━━━━━━━━━━━━━━━━━━━━━━━━━━━\u001b[0m \u001b[32m1.6/1.6 MB\u001b[0m \u001b[31m10.1 MB/s\u001b[0m eta \u001b[36m0:00:00\u001b[0m\n",
            "\u001b[?25h"
          ]
        }
      ],
      "source": [
        "# !pip install --quiet --upgrade datawrapper beautifulsoup4"
      ]
    },
    {
      "cell_type": "code",
      "source": [
        "import pandas as pd\n",
        "import requests\n",
        "from datawrapper import Datawrapper\n",
        "from bs4 import BeautifulSoup\n",
        "import datetime"
      ],
      "metadata": {
        "id": "mqioLgDSe2XJ"
      },
      "execution_count": 43,
      "outputs": []
    },
    {
      "cell_type": "code",
      "source": [
        "# Step 1 Grab the table from Natural Resources Canada and wrangle the data\n",
        "url = \"https://cwfis.cfs.nrcan.gc.ca/maps/fm3?type=arpt&year=2024\"\n",
        "data = requests.get(url).text\n",
        "soup = BeautifulSoup(data, 'html.parser')\n",
        "data_table = soup.find('table')"
      ],
      "metadata": {
        "id": "Y9o4IvzzfkOE"
      },
      "execution_count": 44,
      "outputs": []
    },
    {
      "cell_type": "code",
      "source": [
        "date = []\n",
        "daily_hotspots = []\n",
        "year_to_date_hotspots = []\n",
        "year_to_date_burned_area = []\n",
        "\n",
        "rows = data_table.find_all('tr')[1:]\n",
        "\n",
        "for r in rows:\n",
        "  date.append(r.find_all('td')[0].text.strip().replace(\",\",\"\"))\n",
        "  daily_hotspots.append(r.find_all('td')[1].text.strip().replace(\",\",\"\"))\n",
        "  year_to_date_hotspots.append(r.find_all('td')[2].text.strip().replace(\",\",\"\"))\n",
        "  year_to_date_burned_area.append(r.find_all('td')[3].text.strip().replace(\",\",\"\"))"
      ],
      "metadata": {
        "id": "uDnOYDUah9-O"
      },
      "execution_count": 45,
      "outputs": []
    },
    {
      "cell_type": "code",
      "source": [
        "df = pd.DataFrame({'date': date, 'daily_hotspots': daily_hotspots, 'year_to_date_hotspots': year_to_date_hotspots,\n",
        "              'year_to_date_burned_area': year_to_date_burned_area})\n",
        "df = df.sort_values(by='date',ascending=True)"
      ],
      "metadata": {
        "id": "gK2DeSA6h0EO"
      },
      "execution_count": 46,
      "outputs": []
    },
    {
      "cell_type": "code",
      "source": [
        "update_time = datetime.datetime.now()\n",
        "string = \"This data is updated on {}\".format(update_time)"
      ],
      "metadata": {
        "id": "XbvWnp54rYfL"
      },
      "execution_count": 47,
      "outputs": []
    },
    {
      "cell_type": "code",
      "source": [
        "# Step 2 Visualize with datawrapper API\n",
        "dw = Datawrapper(\"ivaUTc5fZ4X7ngbubGPtxTBZStzgzzaSLZDfACh2KepaxnhwFzdHvaKrTJNVvwoA\")"
      ],
      "metadata": {
        "id": "E6MJUhWkkHJ0"
      },
      "execution_count": 48,
      "outputs": []
    },
    {
      "cell_type": "code",
      "source": [
        "# Prepare the subset of data\n",
        "burned_area = df[['date', 'year_to_date_burned_area']]"
      ],
      "metadata": {
        "id": "oUCGTmEI6ze9"
      },
      "execution_count": 49,
      "outputs": []
    },
    {
      "cell_type": "code",
      "source": [
        "# Update the data\n",
        "dw.add_data('rqirN', burned_area)"
      ],
      "metadata": {
        "colab": {
          "base_uri": "https://localhost:8080/"
        },
        "id": "bs-QIUhM9Pmg",
        "outputId": "02b588dc-3f21-4e86-c9f2-618fbe341d14"
      },
      "execution_count": 50,
      "outputs": [
        {
          "output_type": "execute_result",
          "data": {
            "text/plain": [
              "True"
            ]
          },
          "metadata": {},
          "execution_count": 50
        }
      ]
    },
    {
      "cell_type": "code",
      "source": [
        "# Log the update time\n",
        "properties = {\n",
        "    \"annotate\": {\n",
        "        \"notes\": \"Last update: {}\".format(update_time)\n",
        "    }\n",
        "}\n"
      ],
      "metadata": {
        "id": "KmJveCpIAEsB"
      },
      "execution_count": 51,
      "outputs": []
    },
    {
      "cell_type": "code",
      "source": [
        "dw.update_chart('rqirN', metadata=properties)"
      ],
      "metadata": {
        "colab": {
          "base_uri": "https://localhost:8080/"
        },
        "id": "gOpa3dTJ9PoS",
        "outputId": "c2e6ad1e-7a4d-477c-a26a-207ba70c49ba"
      },
      "execution_count": 52,
      "outputs": [
        {
          "output_type": "execute_result",
          "data": {
            "text/plain": [
              "{'publicId': 'rqirN',\n",
              " 'language': 'en-AP',\n",
              " 'theme': 'the-globe-and-mail',\n",
              " 'id': 'rqirN',\n",
              " 'type': 'd3-lines',\n",
              " 'title': \"API test. Don't use\",\n",
              " 'lastEditStep': 5,\n",
              " 'publishedAt': '2024-05-03T19:52:05.000Z',\n",
              " 'publicUrl': 'https://charts.theglobeandmail.com/rqirN/5/',\n",
              " 'publicVersion': 5,\n",
              " 'deleted': False,\n",
              " 'deletedAt': None,\n",
              " 'forkable': False,\n",
              " 'isFork': False,\n",
              " 'metadata': {'data': {'changes': [],\n",
              "   'transpose': False,\n",
              "   'vertical-header': True,\n",
              "   'horizontal-header': True,\n",
              "   'upload-method': 'copy'},\n",
              "  'describe': {'source-name': 'Natural Resources Canada',\n",
              "   'source-url': 'https://cwfis.cfs.nrcan.gc.ca/maps/fm3?type=arpt&year=2024',\n",
              "   'intro': 'In hectares',\n",
              "   'byline': '',\n",
              "   'aria-description': '',\n",
              "   'number-format': '-',\n",
              "   'number-divisor': 0,\n",
              "   'number-append': '',\n",
              "   'number-prepend': '',\n",
              "   'hide-title': False},\n",
              "  'visualize': {'dark-mode-invert': True,\n",
              "   'highlighted-series': [],\n",
              "   'highlighted-values': [],\n",
              "   'sharing': {'enabled': False},\n",
              "   'lines': {'year_to_date_burned_area': {'directLabel': False,\n",
              "     'labelLastValue': True}},\n",
              "   'x-pos': 'zero',\n",
              "   'y-pos': 'zero',\n",
              "   'header': {'style': {'bold': False, 'color': False, 'fontSize': 1},\n",
              "    'borderBottom': '2px',\n",
              "    'borderBottomColor': '#e6e7e8'},\n",
              "   'x-grid': 'ticks',\n",
              "   'y-grid': 'on',\n",
              "   'scale-y': 'linear',\n",
              "   'base-color': 0,\n",
              "   'bar-padding': 0,\n",
              "   'area-opacity': 1,\n",
              "   'label-colors': False,\n",
              "   'label-margin': 0,\n",
              "   'stack-to-100': False,\n",
              "   'interpolation': 'monotone-x',\n",
              "   'show-tooltips': True,\n",
              "   'x-grid-format': 'MMM|DD',\n",
              "   'y-grid-format': 'auto',\n",
              "   'y-grid-labels': 'auto',\n",
              "   'chart-type-set': True,\n",
              "   'custom-range-x': ['', ''],\n",
              "   'custom-range-y': ['', ''],\n",
              "   'custom-ticks-x': '',\n",
              "   'custom-ticks-y': '',\n",
              "   'plotHeightMode': 'fixed',\n",
              "   'variate-colors': False,\n",
              "   'connector-lines': True,\n",
              "   'plotHeightFixed': 300,\n",
              "   'plotHeightRatio': 0.5,\n",
              "   'text-annotations': [],\n",
              "   'y-grid-subdivide': True,\n",
              "   'custom-area-fills': [],\n",
              "   'range-annotations': [],\n",
              "   'y-grid-label-align': 'left',\n",
              "   'area-separator-color': '#ffffff',\n",
              "   'area-separator-lines': True,\n",
              "   'value-label-alignment': 'right'},\n",
              "  'axes': {},\n",
              "  'publish': {'embed-width': 600,\n",
              "   'embed-height': 458,\n",
              "   'blocks': {'logo': {'enabled': False},\n",
              "    'embed': False,\n",
              "    'download-pdf': False,\n",
              "    'download-svg': False,\n",
              "    'get-the-data': False,\n",
              "    'download-image': False},\n",
              "   'export-pdf': {},\n",
              "   'embed-codes': {'embed-method-custom': '<iframe title=\"API test. Don\\'t use\" aria-label=\"Interactive line chart\" id=\"datawrapper-chart-rqirN\" src=\"https://charts.theglobeandmail.com/rqirN/5/\" scrolling=\"no\" frameborder=\"0\" style=\"width: 0; min-width: 100% !important; border: none; color-scheme: light dark;\" height=\"458\"></iframe><script type=\"text/javascript\">!function(){\"use strict\";window.addEventListener(\"message\",(function(a){if(void 0!==a.data[\"datawrapper-height\"]){var e=document.querySelectorAll(\"iframe\");for(var t in a.data[\"datawrapper-height\"])for(var r=0;r<e.length;r++)if(e[r].contentWindow===a.source){var i=a.data[\"datawrapper-height\"][t]+\"px\";e[r].style.height=i}}}))}();\\n</script>',\n",
              "    'embed-method-iframe': '<iframe title=\"API test. Don\\'t use\" aria-label=\"Interactive line chart\" id=\"datawrapper-chart-rqirN\" src=\"https://charts.theglobeandmail.com/rqirN/5/\" scrolling=\"no\" frameborder=\"0\" style=\"border: none;\" width=\"600\" height=\"458\" data-external=\"1\"></iframe>',\n",
              "    'embed-method-responsive': '<iframe title=\"API test. Don\\'t use\" aria-label=\"Interactive line chart\" id=\"datawrapper-chart-rqirN\" src=\"https://charts.theglobeandmail.com/rqirN/5/\" scrolling=\"no\" frameborder=\"0\" style=\"width: 0; min-width: 100% !important; border: none;\" height=\"458\" data-external=\"1\"></iframe><script type=\"text/javascript\">!function(){\"use strict\";window.addEventListener(\"message\",(function(a){if(void 0!==a.data[\"datawrapper-height\"]){var e=document.querySelectorAll(\"iframe\");for(var t in a.data[\"datawrapper-height\"])for(var r=0;r<e.length;r++)if(e[r].contentWindow===a.source){var i=a.data[\"datawrapper-height\"][t]+\"px\";e[r].style.height=i}}}))}();\\n</script>',\n",
              "    'embed-method-web-component': '<div style=\"min-height:458px\"><script type=\"text/javascript\" defer src=\"https://charts.theglobeandmail.com/rqirN/embed.js?v=5\" charset=\"utf-8\"></script><noscript><img src=\"https://charts.theglobeandmail.com/rqirN/full.png\" alt=\"\" /></noscript></div>'},\n",
              "   'chart-height': 354},\n",
              "  'annotate': {'notes': 'Last update: 2024-05-03 19:52:53.676308'},\n",
              "  'custom': {'slug': '', 'wordmark': True, 'watermark': False}},\n",
              " 'externalData': None,\n",
              " 'utf8': False,\n",
              " 'createdAt': '2024-05-03T02:11:48.000Z',\n",
              " 'lastModifiedAt': '2024-05-03T19:53:00.000Z',\n",
              " 'forkedFrom': None,\n",
              " 'organizationId': 'theglobeandmail',\n",
              " 'authorId': 556110,\n",
              " 'folderId': None,\n",
              " 'url': '/v3/charts/rqirN'}"
            ]
          },
          "metadata": {},
          "execution_count": 52
        }
      ]
    },
    {
      "cell_type": "code",
      "source": [
        "# Create a line chart\n",
        "# burned_area_line_chart = dw.create_chart(\n",
        "#     title = \"API test. Don't use\",\n",
        "#     chart_type = 'd3-lines',\n",
        "#     data = burned_area)"
      ],
      "metadata": {
        "id": "6pBDKfHSnuoR"
      },
      "execution_count": null,
      "outputs": []
    },
    {
      "cell_type": "code",
      "source": [
        "# properties = {\n",
        "#     \"describe\": {\n",
        "#         \"intro\": \"In hectares\",\n",
        "#         \"source-name\": \"Natural Resources Canada 2024\",\n",
        "#         \"source-url\": \"https://cwfis.cfs.nrcan.gc.ca/maps/fm3?type=arpt&year=2024\"\n",
        "#     },\n",
        "\n",
        "#     \"annotate\": {\n",
        "#         \"notes\": \"Last update: {}\".format(update_time)\n",
        "#     },\n",
        "\n",
        "#     \"visualize\": {\n",
        "#         'labeling': 'off',\n",
        "#         'x-grid-format': 'MMM|DD',\n",
        "#         'interpolation': 'monotone-x',\n",
        "#     }\n",
        "# }"
      ],
      "metadata": {
        "id": "rT_7BEW4A7-n"
      },
      "execution_count": null,
      "outputs": []
    },
    {
      "cell_type": "code",
      "source": [
        "# dw.update_chart(burned_area_line_chart['id'], metadata=properties)"
      ],
      "metadata": {
        "id": "vygaLiZeBpe5"
      },
      "execution_count": null,
      "outputs": []
    }
  ]
}