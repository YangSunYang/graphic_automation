{
  "nbformat": 4,
  "nbformat_minor": 0,
  "metadata": {
    "colab": {
      "provenance": [],
      "authorship_tag": "ABX9TyMCXjD6DWzasiUWAqN9CX7F",
      "include_colab_link": true
    },
    "kernelspec": {
      "name": "python3",
      "display_name": "Python 3"
    },
    "language_info": {
      "name": "python"
    }
  },
  "cells": [
    {
      "cell_type": "markdown",
      "metadata": {
        "id": "view-in-github",
        "colab_type": "text"
      },
      "source": [
        "<a href=\"https://colab.research.google.com/github/YangSunYang/wildfire_automation/blob/main/statscan_daily.ipynb\" target=\"_parent\"><img src=\"https://colab.research.google.com/assets/colab-badge.svg\" alt=\"Open In Colab\"/></a>"
      ]
    },
    {
      "cell_type": "code",
      "execution_count": 32,
      "metadata": {
        "id": "-nZhWQtWSmq_"
      },
      "outputs": [],
      "source": [
        "# !pip install --quiet --upgrade datawrapper stats-can"
      ]
    },
    {
      "cell_type": "code",
      "source": [
        "import pandas as pd\n",
        "import requests\n",
        "from datawrapper import Datawrapper\n",
        "import datetime\n",
        "import pytz"
      ],
      "metadata": {
        "id": "IVfxgGhxSy0t"
      },
      "execution_count": 61,
      "outputs": []
    },
    {
      "cell_type": "code",
      "source": [
        "from stats_can import StatsCan\n",
        "sc = StatsCan()"
      ],
      "metadata": {
        "id": "lM39Re0nTPkP"
      },
      "execution_count": 34,
      "outputs": []
    },
    {
      "cell_type": "markdown",
      "source": [
        "Test dataset: [Daily average foreign exchange rates in Canadian dollars, Bank of Canada](https://www150.statcan.gc.ca/t1/tbl1/en/cv.action?pid=3310003601)"
      ],
      "metadata": {
        "id": "KZfKU2Yli1Ij"
      }
    },
    {
      "cell_type": "code",
      "source": [
        "# vector_dict = {'euro': 'v111666227',\n",
        "#                'usd':'v111666248',\n",
        "#                'rmb': 'v111666226'\n",
        "#                }\n",
        "\n",
        "# vector_li = list(vector_dict.values())\n",
        "# df = sc.vectors_to_df(vector_li).tail(30)\n",
        "# col_names = list(vector_dict.keys())"
      ],
      "metadata": {
        "id": "iw2x-r6Yi0cC"
      },
      "execution_count": 35,
      "outputs": []
    },
    {
      "cell_type": "code",
      "source": [
        "# Grab the data of recent month\n",
        "df = sc.vectors_to_df('v111666248').tail(30)"
      ],
      "metadata": {
        "id": "buXP7tWVmh3O"
      },
      "execution_count": 51,
      "outputs": []
    },
    {
      "cell_type": "code",
      "source": [
        "df.columns = ['usd']\n",
        "df.index.names = ['Date']\n",
        "df.reset_index(inplace=True)"
      ],
      "metadata": {
        "id": "MiuBW4CeAErA"
      },
      "execution_count": 55,
      "outputs": []
    },
    {
      "cell_type": "code",
      "source": [
        "# Remove null values\n",
        "df = df[df['usd'].notnull()]"
      ],
      "metadata": {
        "id": "9y9UUlx_C08T"
      },
      "execution_count": 59,
      "outputs": []
    },
    {
      "cell_type": "code",
      "source": [
        "# Log the start and end dates for the subtitle\n",
        "start_date = str(df.iloc[0,0]).split(' ')[0]\n",
        "end_date = str(df.iloc[-1,0]).split(' ')[0]"
      ],
      "metadata": {
        "id": "hOo_xVuzEoSV"
      },
      "execution_count": 81,
      "outputs": []
    },
    {
      "cell_type": "code",
      "source": [],
      "metadata": {
        "id": "RawQHO_IFo-L"
      },
      "execution_count": 80,
      "outputs": []
    },
    {
      "cell_type": "code",
      "source": [
        "# Set up DW API\n",
        "dw = Datawrapper(\"ivaUTc5fZ4X7ngbubGPtxTBZStzgzzaSLZDfACh2KepaxnhwFzdHvaKrTJNVvwoA\")"
      ],
      "metadata": {
        "id": "X2UYZp6vC1O8"
      },
      "execution_count": 60,
      "outputs": []
    },
    {
      "cell_type": "code",
      "source": [
        "chart_id = '7UKHj'\n",
        "\n",
        "# Update the data\n",
        "dw.add_data(chart_id, df)"
      ],
      "metadata": {
        "colab": {
          "base_uri": "https://localhost:8080/"
        },
        "id": "pdWDh98ODfN9",
        "outputId": "105f27e4-53be-4a2a-a59a-d95d7ac55c94"
      },
      "execution_count": 62,
      "outputs": [
        {
          "output_type": "execute_result",
          "data": {
            "text/plain": [
              "True"
            ]
          },
          "metadata": {},
          "execution_count": 62
        }
      ]
    },
    {
      "cell_type": "code",
      "source": [
        "update_time = datetime.datetime.now()\n",
        "local_timezone = pytz.timezone('America/New_York')\n",
        "update_time = update_time.astimezone(local_timezone)\n",
        "update_string = str(update_time).split('.')[0]"
      ],
      "metadata": {
        "id": "TytWRx7pDuyW"
      },
      "execution_count": 64,
      "outputs": []
    },
    {
      "cell_type": "code",
      "source": [
        "# Log the update time\n",
        "properties = {\n",
        "    \"annotate\": {\n",
        "        \"notes\": \"Last update: {} EST\".format(update_string)\n",
        "    },\n",
        "    \"describe\":{\n",
        "        \"intro\": \"In dollar. Exchange rate from {} to {} \".format(start_date, end_date)\n",
        "    }\n",
        "}\n",
        "\n",
        "dw.update_chart(chart_id, metadata=properties)"
      ],
      "metadata": {
        "colab": {
          "base_uri": "https://localhost:8080/"
        },
        "id": "YfnunvKtEAed",
        "outputId": "9cb4a492-ce9f-4b03-bab8-856f8677f16e"
      },
      "execution_count": 82,
      "outputs": [
        {
          "output_type": "execute_result",
          "data": {
            "text/plain": [
              "{'publicId': '7UKHj',\n",
              " 'language': 'en-AP',\n",
              " 'theme': 'the-globe-and-mail',\n",
              " 'id': '7UKHj',\n",
              " 'type': 'd3-lines',\n",
              " 'title': 'API test: CAD to USD daily exchange rate',\n",
              " 'lastEditStep': 5,\n",
              " 'publishedAt': '2024-05-13T17:44:33.000Z',\n",
              " 'publicUrl': 'https://charts.theglobeandmail.com/7UKHj/1/',\n",
              " 'publicVersion': 1,\n",
              " 'deleted': False,\n",
              " 'deletedAt': None,\n",
              " 'forkable': False,\n",
              " 'isFork': False,\n",
              " 'metadata': {'data': {'changes': [],\n",
              "   'transpose': False,\n",
              "   'vertical-header': True,\n",
              "   'horizontal-header': True,\n",
              "   'column-format': {'rmb': {'type': 'auto',\n",
              "     'ignore': False,\n",
              "     'number-append': '',\n",
              "     'number-format': 'auto',\n",
              "     'number-divisor': 0,\n",
              "     'number-prepend': ''},\n",
              "    'euro': {'type': 'auto',\n",
              "     'ignore': False,\n",
              "     'number-append': '',\n",
              "     'number-format': 'auto',\n",
              "     'number-divisor': 0,\n",
              "     'number-prepend': ''}},\n",
              "   'upload-method': 'copy'},\n",
              "  'describe': {'source-name': 'Bank of Canada',\n",
              "   'source-url': '',\n",
              "   'intro': 'In dollar. Exchange rate from 2024-04-10 to 2024-05-09 ',\n",
              "   'byline': '',\n",
              "   'aria-description': '',\n",
              "   'number-format': '-',\n",
              "   'number-divisor': 0,\n",
              "   'number-append': '',\n",
              "   'number-prepend': '',\n",
              "   'hide-title': False},\n",
              "  'visualize': {'dark-mode-invert': True,\n",
              "   'highlighted-series': [],\n",
              "   'highlighted-values': [],\n",
              "   'sharing': {'enabled': False},\n",
              "   'sort': {'by': 'end', 'enabled': False, 'reverse': False},\n",
              "   'lines': {'usd': {'directLabel': False}},\n",
              "   'x-pos': 'zero',\n",
              "   'y-pos': 'zero',\n",
              "   'header': {'style': {'bold': False, 'color': False, 'fontSize': 1},\n",
              "    'borderBottom': '2px',\n",
              "    'borderBottomColor': '#e6e7e8'},\n",
              "   'x-grid': 'ticks',\n",
              "   'y-grid': 'on',\n",
              "   'scale-y': 'linear',\n",
              "   'areaFill': {'to': '--zero-baseline--', 'enabled': False, 'opacity': 0.3},\n",
              "   'base-color': 0,\n",
              "   'gridLayout': 'fixedCount',\n",
              "   'bar-padding': 0,\n",
              "   'area-opacity': 1,\n",
              "   'label-colors': False,\n",
              "   'label-margin': 0,\n",
              "   'stack-to-100': False,\n",
              "   'interpolation': 'linear',\n",
              "   'show-tooltips': True,\n",
              "   'x-grid-format': 'MMM|DD',\n",
              "   'y-grid-format': 'auto',\n",
              "   'y-grid-labels': 'auto',\n",
              "   'chart-type-set': True,\n",
              "   'custom-range-x': ['', ''],\n",
              "   'custom-range-y': ['', ''],\n",
              "   'custom-ticks-x': '',\n",
              "   'custom-ticks-y': '',\n",
              "   'plotHeightMode': 'fixed',\n",
              "   'connector-lines': True,\n",
              "   'gridColumnCount': 4,\n",
              "   'plotHeightFixed': 300,\n",
              "   'plotHeightRatio': 0.5,\n",
              "   'text-annotations': [],\n",
              "   'y-grid-subdivide': True,\n",
              "   'custom-area-fills': [],\n",
              "   'gridRowHeightMode': 'fixed',\n",
              "   'range-annotations': [],\n",
              "   'gridColumnMinWidth': 200,\n",
              "   'gridRowHeightFixed': 140,\n",
              "   'gridRowHeightRatio': 1,\n",
              "   'independentYScales': True,\n",
              "   'y-grid-label-align': 'left',\n",
              "   'area-separator-color': '#ffffff',\n",
              "   'area-separator-lines': True,\n",
              "   'lineColorPanelTitles': False,\n",
              "   'syncMultipleTooltips': True,\n",
              "   'xGridLabelAllColumns': False,\n",
              "   'yGridLabelAllColumns': False,\n",
              "   'gridColumnCountMobile': 2,\n",
              "   'value-label-alignment': 'right',\n",
              "   'independentYScalesRounded': True},\n",
              "  'axes': {},\n",
              "  'publish': {'embed-width': 600,\n",
              "   'embed-height': 440,\n",
              "   'blocks': {'logo': {'enabled': False},\n",
              "    'embed': False,\n",
              "    'download-pdf': False,\n",
              "    'download-svg': False,\n",
              "    'get-the-data': False,\n",
              "    'download-image': False},\n",
              "   'export-pdf': {},\n",
              "   'embed-codes': {'embed-method-custom': '<iframe title=\"API test: CAD to USD daily exchange rate\" aria-label=\"Interactive line chart\" id=\"datawrapper-chart-7UKHj\" src=\"https://charts.theglobeandmail.com/7UKHj/1/\" scrolling=\"no\" frameborder=\"0\" style=\"width: 0; min-width: 100% !important; border: none; color-scheme: light dark;\" height=\"420\"></iframe><script type=\"text/javascript\">!function(){\"use strict\";window.addEventListener(\"message\",(function(a){if(void 0!==a.data[\"datawrapper-height\"]){var e=document.querySelectorAll(\"iframe\");for(var t in a.data[\"datawrapper-height\"])for(var r=0;r<e.length;r++)if(e[r].contentWindow===a.source){var i=a.data[\"datawrapper-height\"][t]+\"px\";e[r].style.height=i}}}))}();\\n</script>',\n",
              "    'embed-method-iframe': '<iframe title=\"API test: CAD to USD daily exchange rate\" aria-label=\"Interactive line chart\" id=\"datawrapper-chart-7UKHj\" src=\"https://charts.theglobeandmail.com/7UKHj/1/\" scrolling=\"no\" frameborder=\"0\" style=\"border: none;\" width=\"600\" height=\"420\" data-external=\"1\"></iframe>',\n",
              "    'embed-method-responsive': '<iframe title=\"API test: CAD to USD daily exchange rate\" aria-label=\"Interactive line chart\" id=\"datawrapper-chart-7UKHj\" src=\"https://charts.theglobeandmail.com/7UKHj/1/\" scrolling=\"no\" frameborder=\"0\" style=\"width: 0; min-width: 100% !important; border: none;\" height=\"420\" data-external=\"1\"></iframe><script type=\"text/javascript\">!function(){\"use strict\";window.addEventListener(\"message\",(function(a){if(void 0!==a.data[\"datawrapper-height\"]){var e=document.querySelectorAll(\"iframe\");for(var t in a.data[\"datawrapper-height\"])for(var r=0;r<e.length;r++)if(e[r].contentWindow===a.source){var i=a.data[\"datawrapper-height\"][t]+\"px\";e[r].style.height=i}}}))}();\\n</script>',\n",
              "    'embed-method-web-component': '<div style=\"min-height:420px\"><script type=\"text/javascript\" defer src=\"https://charts.theglobeandmail.com/7UKHj/embed.js?v=1\" charset=\"utf-8\"></script><noscript><img src=\"https://charts.theglobeandmail.com/7UKHj/full.png\" alt=\"\" /></noscript></div>'},\n",
              "   'chart-height': 355},\n",
              "  'annotate': {'notes': 'Last update: 2024-05-13 13:46:54 EST'},\n",
              "  'custom': {'slug': '', 'wordmark': True, 'watermark': False}},\n",
              " 'externalData': None,\n",
              " 'utf8': False,\n",
              " 'createdAt': '2024-05-13T17:31:10.000Z',\n",
              " 'lastModifiedAt': '2024-05-13T17:54:33.000Z',\n",
              " 'forkedFrom': None,\n",
              " 'organizationId': 'theglobeandmail',\n",
              " 'authorId': 556110,\n",
              " 'folderId': None,\n",
              " 'url': '/v3/charts/7UKHj'}"
            ]
          },
          "metadata": {},
          "execution_count": 82
        }
      ]
    }
  ]
}