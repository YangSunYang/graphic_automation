{
  "nbformat": 4,
  "nbformat_minor": 0,
  "metadata": {
    "colab": {
      "provenance": [],
      "authorship_tag": "ABX9TyOdOJxaSEq79yRo9j81Zsp2",
      "include_colab_link": true
    },
    "kernelspec": {
      "name": "python3",
      "display_name": "Python 3"
    },
    "language_info": {
      "name": "python"
    }
  },
  "cells": [
    {
      "cell_type": "markdown",
      "metadata": {
        "id": "view-in-github",
        "colab_type": "text"
      },
      "source": [
        "<a href=\"https://colab.research.google.com/github/YangSunYang/graphic_automation/blob/main/CPI_test.ipynb\" target=\"_parent\"><img src=\"https://colab.research.google.com/assets/colab-badge.svg\" alt=\"Open In Colab\"/></a>"
      ]
    },
    {
      "cell_type": "code",
      "execution_count": 4,
      "metadata": {
        "id": "L1lEdGrTfvKK"
      },
      "outputs": [],
      "source": [
        "!pip install --quiet --upgrade datawrapper stats-can"
      ]
    },
    {
      "cell_type": "code",
      "source": [
        "import pandas as pd\n",
        "import requests\n",
        "from datawrapper import Datawrapper\n",
        "import datetime\n",
        "import pytz"
      ],
      "metadata": {
        "id": "zJvGD-KnhDlC"
      },
      "execution_count": 5,
      "outputs": []
    },
    {
      "cell_type": "code",
      "source": [
        "from stats_can import StatsCan\n",
        "sc = StatsCan()"
      ],
      "metadata": {
        "id": "HHHTrKfohFpW"
      },
      "execution_count": 6,
      "outputs": []
    },
    {
      "cell_type": "code",
      "source": [
        "# Table lin: https://www150.statcan.gc.ca/t1/tbl1/en/tv.action?pid=1810000413\n",
        "df = sc.table_to_df(\"18-10-0004-13\")"
      ],
      "metadata": {
        "colab": {
          "base_uri": "https://localhost:8080/"
        },
        "id": "f01xUIsthMkz",
        "outputId": "c9acd415-3da9-4e51-8a7e-2de991d9b1bb"
      },
      "execution_count": 8,
      "outputs": [
        {
          "output_type": "stream",
          "name": "stdout",
          "text": [
            "Downloading and loading table_18100004\n"
          ]
        },
        {
          "output_type": "stream",
          "name": "stderr",
          "text": [
            "18100004-eng.zip: 100%|██████████| 14.5M/14.5M [00:05<00:00, 2.64MB/s]\n"
          ]
        }
      ]
    },
    {
      "cell_type": "code",
      "source": [
        "df_ca = df[df['GEO'] == 'Canada']"
      ],
      "metadata": {
        "id": "jBGcywLHidh0"
      },
      "execution_count": 9,
      "outputs": []
    },
    {
      "cell_type": "code",
      "source": [
        "vect_dict={\n",
        "    'All-items': 'v41690973',\n",
        "    'All-items excluding food and energy':'v41691233'\n",
        "}"
      ],
      "metadata": {
        "id": "mQ0TXjJikgUc"
      },
      "execution_count": 10,
      "outputs": []
    },
    {
      "cell_type": "code",
      "source": [
        "df_vect = sc.vectors_to_df(list(vect_dict.values()), start_date='1999-01-01')"
      ],
      "metadata": {
        "id": "okVy3S2klsZm"
      },
      "execution_count": 11,
      "outputs": []
    },
    {
      "cell_type": "code",
      "source": [
        "df_vect.columns = [list(vect_dict.keys())]\n",
        "df_vect.index.names = ['Date']\n",
        "df_vect.reset_index(inplace=True)"
      ],
      "metadata": {
        "id": "fBYeEMmBmcfM"
      },
      "execution_count": 12,
      "outputs": []
    },
    {
      "cell_type": "code",
      "source": [
        "df_vect"
      ],
      "metadata": {
        "colab": {
          "base_uri": "https://localhost:8080/",
          "height": 424
        },
        "id": "y700oBcGmE6m",
        "outputId": "9aab4d13-abb9-41c4-971a-a23a3fb00054"
      },
      "execution_count": 13,
      "outputs": [
        {
          "output_type": "execute_result",
          "data": {
            "text/plain": [
              "          Date All-items All-items excluding food and energy\n",
              "0   1999-01-01      91.5                                92.8\n",
              "1   1999-02-01      91.6                                93.1\n",
              "2   1999-03-01      92.0                                93.5\n",
              "3   1999-04-01      92.5                                93.8\n",
              "4   1999-05-01      92.7                                94.0\n",
              "..         ...       ...                                 ...\n",
              "298 2023-11-01     158.8                               149.3\n",
              "299 2023-12-01     158.3                               148.9\n",
              "300 2024-01-01     158.3                               148.8\n",
              "301 2024-02-01     158.8                               149.1\n",
              "302 2024-03-01     159.8                               150.1\n",
              "\n",
              "[303 rows x 3 columns]"
            ],
            "text/html": [
              "\n",
              "  <div id=\"df-90e6d29d-f6b1-417a-8f58-f6811f7ee1e8\" class=\"colab-df-container\">\n",
              "    <div>\n",
              "<style scoped>\n",
              "    .dataframe tbody tr th:only-of-type {\n",
              "        vertical-align: middle;\n",
              "    }\n",
              "\n",
              "    .dataframe tbody tr th {\n",
              "        vertical-align: top;\n",
              "    }\n",
              "\n",
              "    .dataframe thead tr th {\n",
              "        text-align: left;\n",
              "    }\n",
              "</style>\n",
              "<table border=\"1\" class=\"dataframe\">\n",
              "  <thead>\n",
              "    <tr>\n",
              "      <th></th>\n",
              "      <th>Date</th>\n",
              "      <th>All-items</th>\n",
              "      <th>All-items excluding food and energy</th>\n",
              "    </tr>\n",
              "  </thead>\n",
              "  <tbody>\n",
              "    <tr>\n",
              "      <th>0</th>\n",
              "      <td>1999-01-01</td>\n",
              "      <td>91.5</td>\n",
              "      <td>92.8</td>\n",
              "    </tr>\n",
              "    <tr>\n",
              "      <th>1</th>\n",
              "      <td>1999-02-01</td>\n",
              "      <td>91.6</td>\n",
              "      <td>93.1</td>\n",
              "    </tr>\n",
              "    <tr>\n",
              "      <th>2</th>\n",
              "      <td>1999-03-01</td>\n",
              "      <td>92.0</td>\n",
              "      <td>93.5</td>\n",
              "    </tr>\n",
              "    <tr>\n",
              "      <th>3</th>\n",
              "      <td>1999-04-01</td>\n",
              "      <td>92.5</td>\n",
              "      <td>93.8</td>\n",
              "    </tr>\n",
              "    <tr>\n",
              "      <th>4</th>\n",
              "      <td>1999-05-01</td>\n",
              "      <td>92.7</td>\n",
              "      <td>94.0</td>\n",
              "    </tr>\n",
              "    <tr>\n",
              "      <th>...</th>\n",
              "      <td>...</td>\n",
              "      <td>...</td>\n",
              "      <td>...</td>\n",
              "    </tr>\n",
              "    <tr>\n",
              "      <th>298</th>\n",
              "      <td>2023-11-01</td>\n",
              "      <td>158.8</td>\n",
              "      <td>149.3</td>\n",
              "    </tr>\n",
              "    <tr>\n",
              "      <th>299</th>\n",
              "      <td>2023-12-01</td>\n",
              "      <td>158.3</td>\n",
              "      <td>148.9</td>\n",
              "    </tr>\n",
              "    <tr>\n",
              "      <th>300</th>\n",
              "      <td>2024-01-01</td>\n",
              "      <td>158.3</td>\n",
              "      <td>148.8</td>\n",
              "    </tr>\n",
              "    <tr>\n",
              "      <th>301</th>\n",
              "      <td>2024-02-01</td>\n",
              "      <td>158.8</td>\n",
              "      <td>149.1</td>\n",
              "    </tr>\n",
              "    <tr>\n",
              "      <th>302</th>\n",
              "      <td>2024-03-01</td>\n",
              "      <td>159.8</td>\n",
              "      <td>150.1</td>\n",
              "    </tr>\n",
              "  </tbody>\n",
              "</table>\n",
              "<p>303 rows × 3 columns</p>\n",
              "</div>\n",
              "    <div class=\"colab-df-buttons\">\n",
              "\n",
              "  <div class=\"colab-df-container\">\n",
              "    <button class=\"colab-df-convert\" onclick=\"convertToInteractive('df-90e6d29d-f6b1-417a-8f58-f6811f7ee1e8')\"\n",
              "            title=\"Convert this dataframe to an interactive table.\"\n",
              "            style=\"display:none;\">\n",
              "\n",
              "  <svg xmlns=\"http://www.w3.org/2000/svg\" height=\"24px\" viewBox=\"0 -960 960 960\">\n",
              "    <path d=\"M120-120v-720h720v720H120Zm60-500h600v-160H180v160Zm220 220h160v-160H400v160Zm0 220h160v-160H400v160ZM180-400h160v-160H180v160Zm440 0h160v-160H620v160ZM180-180h160v-160H180v160Zm440 0h160v-160H620v160Z\"/>\n",
              "  </svg>\n",
              "    </button>\n",
              "\n",
              "  <style>\n",
              "    .colab-df-container {\n",
              "      display:flex;\n",
              "      gap: 12px;\n",
              "    }\n",
              "\n",
              "    .colab-df-convert {\n",
              "      background-color: #E8F0FE;\n",
              "      border: none;\n",
              "      border-radius: 50%;\n",
              "      cursor: pointer;\n",
              "      display: none;\n",
              "      fill: #1967D2;\n",
              "      height: 32px;\n",
              "      padding: 0 0 0 0;\n",
              "      width: 32px;\n",
              "    }\n",
              "\n",
              "    .colab-df-convert:hover {\n",
              "      background-color: #E2EBFA;\n",
              "      box-shadow: 0px 1px 2px rgba(60, 64, 67, 0.3), 0px 1px 3px 1px rgba(60, 64, 67, 0.15);\n",
              "      fill: #174EA6;\n",
              "    }\n",
              "\n",
              "    .colab-df-buttons div {\n",
              "      margin-bottom: 4px;\n",
              "    }\n",
              "\n",
              "    [theme=dark] .colab-df-convert {\n",
              "      background-color: #3B4455;\n",
              "      fill: #D2E3FC;\n",
              "    }\n",
              "\n",
              "    [theme=dark] .colab-df-convert:hover {\n",
              "      background-color: #434B5C;\n",
              "      box-shadow: 0px 1px 3px 1px rgba(0, 0, 0, 0.15);\n",
              "      filter: drop-shadow(0px 1px 2px rgba(0, 0, 0, 0.3));\n",
              "      fill: #FFFFFF;\n",
              "    }\n",
              "  </style>\n",
              "\n",
              "    <script>\n",
              "      const buttonEl =\n",
              "        document.querySelector('#df-90e6d29d-f6b1-417a-8f58-f6811f7ee1e8 button.colab-df-convert');\n",
              "      buttonEl.style.display =\n",
              "        google.colab.kernel.accessAllowed ? 'block' : 'none';\n",
              "\n",
              "      async function convertToInteractive(key) {\n",
              "        const element = document.querySelector('#df-90e6d29d-f6b1-417a-8f58-f6811f7ee1e8');\n",
              "        const dataTable =\n",
              "          await google.colab.kernel.invokeFunction('convertToInteractive',\n",
              "                                                    [key], {});\n",
              "        if (!dataTable) return;\n",
              "\n",
              "        const docLinkHtml = 'Like what you see? Visit the ' +\n",
              "          '<a target=\"_blank\" href=https://colab.research.google.com/notebooks/data_table.ipynb>data table notebook</a>'\n",
              "          + ' to learn more about interactive tables.';\n",
              "        element.innerHTML = '';\n",
              "        dataTable['output_type'] = 'display_data';\n",
              "        await google.colab.output.renderOutput(dataTable, element);\n",
              "        const docLink = document.createElement('div');\n",
              "        docLink.innerHTML = docLinkHtml;\n",
              "        element.appendChild(docLink);\n",
              "      }\n",
              "    </script>\n",
              "  </div>\n",
              "\n",
              "\n",
              "<div id=\"df-2b51d85b-e182-4128-bc68-dad5bdf9dc89\">\n",
              "  <button class=\"colab-df-quickchart\" onclick=\"quickchart('df-2b51d85b-e182-4128-bc68-dad5bdf9dc89')\"\n",
              "            title=\"Suggest charts\"\n",
              "            style=\"display:none;\">\n",
              "\n",
              "<svg xmlns=\"http://www.w3.org/2000/svg\" height=\"24px\"viewBox=\"0 0 24 24\"\n",
              "     width=\"24px\">\n",
              "    <g>\n",
              "        <path d=\"M19 3H5c-1.1 0-2 .9-2 2v14c0 1.1.9 2 2 2h14c1.1 0 2-.9 2-2V5c0-1.1-.9-2-2-2zM9 17H7v-7h2v7zm4 0h-2V7h2v10zm4 0h-2v-4h2v4z\"/>\n",
              "    </g>\n",
              "</svg>\n",
              "  </button>\n",
              "\n",
              "<style>\n",
              "  .colab-df-quickchart {\n",
              "      --bg-color: #E8F0FE;\n",
              "      --fill-color: #1967D2;\n",
              "      --hover-bg-color: #E2EBFA;\n",
              "      --hover-fill-color: #174EA6;\n",
              "      --disabled-fill-color: #AAA;\n",
              "      --disabled-bg-color: #DDD;\n",
              "  }\n",
              "\n",
              "  [theme=dark] .colab-df-quickchart {\n",
              "      --bg-color: #3B4455;\n",
              "      --fill-color: #D2E3FC;\n",
              "      --hover-bg-color: #434B5C;\n",
              "      --hover-fill-color: #FFFFFF;\n",
              "      --disabled-bg-color: #3B4455;\n",
              "      --disabled-fill-color: #666;\n",
              "  }\n",
              "\n",
              "  .colab-df-quickchart {\n",
              "    background-color: var(--bg-color);\n",
              "    border: none;\n",
              "    border-radius: 50%;\n",
              "    cursor: pointer;\n",
              "    display: none;\n",
              "    fill: var(--fill-color);\n",
              "    height: 32px;\n",
              "    padding: 0;\n",
              "    width: 32px;\n",
              "  }\n",
              "\n",
              "  .colab-df-quickchart:hover {\n",
              "    background-color: var(--hover-bg-color);\n",
              "    box-shadow: 0 1px 2px rgba(60, 64, 67, 0.3), 0 1px 3px 1px rgba(60, 64, 67, 0.15);\n",
              "    fill: var(--button-hover-fill-color);\n",
              "  }\n",
              "\n",
              "  .colab-df-quickchart-complete:disabled,\n",
              "  .colab-df-quickchart-complete:disabled:hover {\n",
              "    background-color: var(--disabled-bg-color);\n",
              "    fill: var(--disabled-fill-color);\n",
              "    box-shadow: none;\n",
              "  }\n",
              "\n",
              "  .colab-df-spinner {\n",
              "    border: 2px solid var(--fill-color);\n",
              "    border-color: transparent;\n",
              "    border-bottom-color: var(--fill-color);\n",
              "    animation:\n",
              "      spin 1s steps(1) infinite;\n",
              "  }\n",
              "\n",
              "  @keyframes spin {\n",
              "    0% {\n",
              "      border-color: transparent;\n",
              "      border-bottom-color: var(--fill-color);\n",
              "      border-left-color: var(--fill-color);\n",
              "    }\n",
              "    20% {\n",
              "      border-color: transparent;\n",
              "      border-left-color: var(--fill-color);\n",
              "      border-top-color: var(--fill-color);\n",
              "    }\n",
              "    30% {\n",
              "      border-color: transparent;\n",
              "      border-left-color: var(--fill-color);\n",
              "      border-top-color: var(--fill-color);\n",
              "      border-right-color: var(--fill-color);\n",
              "    }\n",
              "    40% {\n",
              "      border-color: transparent;\n",
              "      border-right-color: var(--fill-color);\n",
              "      border-top-color: var(--fill-color);\n",
              "    }\n",
              "    60% {\n",
              "      border-color: transparent;\n",
              "      border-right-color: var(--fill-color);\n",
              "    }\n",
              "    80% {\n",
              "      border-color: transparent;\n",
              "      border-right-color: var(--fill-color);\n",
              "      border-bottom-color: var(--fill-color);\n",
              "    }\n",
              "    90% {\n",
              "      border-color: transparent;\n",
              "      border-bottom-color: var(--fill-color);\n",
              "    }\n",
              "  }\n",
              "</style>\n",
              "\n",
              "  <script>\n",
              "    async function quickchart(key) {\n",
              "      const quickchartButtonEl =\n",
              "        document.querySelector('#' + key + ' button');\n",
              "      quickchartButtonEl.disabled = true;  // To prevent multiple clicks.\n",
              "      quickchartButtonEl.classList.add('colab-df-spinner');\n",
              "      try {\n",
              "        const charts = await google.colab.kernel.invokeFunction(\n",
              "            'suggestCharts', [key], {});\n",
              "      } catch (error) {\n",
              "        console.error('Error during call to suggestCharts:', error);\n",
              "      }\n",
              "      quickchartButtonEl.classList.remove('colab-df-spinner');\n",
              "      quickchartButtonEl.classList.add('colab-df-quickchart-complete');\n",
              "    }\n",
              "    (() => {\n",
              "      let quickchartButtonEl =\n",
              "        document.querySelector('#df-2b51d85b-e182-4128-bc68-dad5bdf9dc89 button');\n",
              "      quickchartButtonEl.style.display =\n",
              "        google.colab.kernel.accessAllowed ? 'block' : 'none';\n",
              "    })();\n",
              "  </script>\n",
              "</div>\n",
              "\n",
              "  <div id=\"id_bef3ca95-c13e-498e-92f2-de16ebe964a1\">\n",
              "    <style>\n",
              "      .colab-df-generate {\n",
              "        background-color: #E8F0FE;\n",
              "        border: none;\n",
              "        border-radius: 50%;\n",
              "        cursor: pointer;\n",
              "        display: none;\n",
              "        fill: #1967D2;\n",
              "        height: 32px;\n",
              "        padding: 0 0 0 0;\n",
              "        width: 32px;\n",
              "      }\n",
              "\n",
              "      .colab-df-generate:hover {\n",
              "        background-color: #E2EBFA;\n",
              "        box-shadow: 0px 1px 2px rgba(60, 64, 67, 0.3), 0px 1px 3px 1px rgba(60, 64, 67, 0.15);\n",
              "        fill: #174EA6;\n",
              "      }\n",
              "\n",
              "      [theme=dark] .colab-df-generate {\n",
              "        background-color: #3B4455;\n",
              "        fill: #D2E3FC;\n",
              "      }\n",
              "\n",
              "      [theme=dark] .colab-df-generate:hover {\n",
              "        background-color: #434B5C;\n",
              "        box-shadow: 0px 1px 3px 1px rgba(0, 0, 0, 0.15);\n",
              "        filter: drop-shadow(0px 1px 2px rgba(0, 0, 0, 0.3));\n",
              "        fill: #FFFFFF;\n",
              "      }\n",
              "    </style>\n",
              "    <button class=\"colab-df-generate\" onclick=\"generateWithVariable('df_vect')\"\n",
              "            title=\"Generate code using this dataframe.\"\n",
              "            style=\"display:none;\">\n",
              "\n",
              "  <svg xmlns=\"http://www.w3.org/2000/svg\" height=\"24px\"viewBox=\"0 0 24 24\"\n",
              "       width=\"24px\">\n",
              "    <path d=\"M7,19H8.4L18.45,9,17,7.55,7,17.6ZM5,21V16.75L18.45,3.32a2,2,0,0,1,2.83,0l1.4,1.43a1.91,1.91,0,0,1,.58,1.4,1.91,1.91,0,0,1-.58,1.4L9.25,21ZM18.45,9,17,7.55Zm-12,3A5.31,5.31,0,0,0,4.9,8.1,5.31,5.31,0,0,0,1,6.5,5.31,5.31,0,0,0,4.9,4.9,5.31,5.31,0,0,0,6.5,1,5.31,5.31,0,0,0,8.1,4.9,5.31,5.31,0,0,0,12,6.5,5.46,5.46,0,0,0,6.5,12Z\"/>\n",
              "  </svg>\n",
              "    </button>\n",
              "    <script>\n",
              "      (() => {\n",
              "      const buttonEl =\n",
              "        document.querySelector('#id_bef3ca95-c13e-498e-92f2-de16ebe964a1 button.colab-df-generate');\n",
              "      buttonEl.style.display =\n",
              "        google.colab.kernel.accessAllowed ? 'block' : 'none';\n",
              "\n",
              "      buttonEl.onclick = () => {\n",
              "        google.colab.notebook.generateWithVariable('df_vect');\n",
              "      }\n",
              "      })();\n",
              "    </script>\n",
              "  </div>\n",
              "\n",
              "    </div>\n",
              "  </div>\n"
            ],
            "application/vnd.google.colaboratory.intrinsic+json": {
              "type": "dataframe",
              "variable_name": "df_vect",
              "summary": "{\n  \"name\": \"df_vect\",\n  \"rows\": 303,\n  \"fields\": [\n    {\n      \"column\": [\n        \"Date\"\n      ],\n      \"properties\": {\n        \"dtype\": \"date\",\n        \"min\": \"1999-01-01 00:00:00\",\n        \"max\": \"2024-03-01 00:00:00\",\n        \"num_unique_values\": 303,\n        \"samples\": [\n          \"2013-12-01 00:00:00\",\n          \"2018-01-01 00:00:00\",\n          \"2008-04-01 00:00:00\"\n        ],\n        \"semantic_type\": \"\",\n        \"description\": \"\"\n      }\n    },\n    {\n      \"column\": [\n        \"All-items\"\n      ],\n      \"properties\": {\n        \"dtype\": \"number\",\n        \"std\": 17.167783668860757,\n        \"min\": 91.5,\n        \"max\": 159.8,\n        \"num_unique_values\": 239,\n        \"samples\": [\n          97.8,\n          93.1,\n          114.6\n        ],\n        \"semantic_type\": \"\",\n        \"description\": \"\"\n      }\n    },\n    {\n      \"column\": [\n        \"All-items excluding food and energy\"\n      ],\n      \"properties\": {\n        \"dtype\": \"number\",\n        \"std\": 14.440696181453912,\n        \"min\": 92.8,\n        \"max\": 150.1,\n        \"num_unique_values\": 229,\n        \"samples\": [\n          145.0,\n          105.6,\n          94.7\n        ],\n        \"semantic_type\": \"\",\n        \"description\": \"\"\n      }\n    }\n  ]\n}"
            }
          },
          "metadata": {},
          "execution_count": 13
        }
      ]
    },
    {
      "cell_type": "code",
      "source": [
        "df_vect['All-items'] = round(df_vect['All-items'].pct_change(periods=12)*100,1)\n",
        "df_vect['All-items excluding food and energy'] = round(df_vect['All-items excluding food and energy'].pct_change(periods=12)*100,1)"
      ],
      "metadata": {
        "id": "E8C2V6VEoS9Z"
      },
      "execution_count": 14,
      "outputs": []
    },
    {
      "cell_type": "code",
      "source": [
        "df_vect.dropna(inplace=True)"
      ],
      "metadata": {
        "id": "vJ6OVSJVw379"
      },
      "execution_count": 15,
      "outputs": []
    },
    {
      "cell_type": "code",
      "source": [
        "dw = Datawrapper(\"mxg2jp1O9qIvGCbM8hQDF3umnpmnzwjp3r4FeZL55RcZwz0fAwSoeoSNa1JCqNUO\")"
      ],
      "metadata": {
        "id": "w1_CGsnakOFn"
      },
      "execution_count": 18,
      "outputs": []
    },
    {
      "cell_type": "code",
      "source": [
        "# Publish the chart\n",
        "# chart_config = dw.create_chart(\n",
        "#     title=\"Consumer Price Index\",\n",
        "#     chart_type=\"multiple-lines\",\n",
        "#     data=df_vect\n",
        "# )\n",
        "\n",
        "# chart_id = chart_config['id']\n",
        "\n",
        "# dw.publish_chart(chart_config['id'])"
      ],
      "metadata": {
        "id": "MHFPZSzEke_f"
      },
      "execution_count": 19,
      "outputs": []
    },
    {
      "cell_type": "code",
      "source": [
        "chart_id = 'PY2O3'"
      ],
      "metadata": {
        "id": "TmDWrmGbk4lC"
      },
      "execution_count": 22,
      "outputs": []
    },
    {
      "cell_type": "code",
      "source": [
        "update_time = datetime.datetime.now()\n",
        "local_timezone = pytz.timezone('America/New_York')\n",
        "update_time = update_time.astimezone(local_timezone)\n",
        "update_string = str(update_time).split('.')[0]"
      ],
      "metadata": {
        "id": "n9jOYpqgxJJK"
      },
      "execution_count": 23,
      "outputs": []
    },
    {
      "cell_type": "code",
      "source": [
        "str(update_time)"
      ],
      "metadata": {
        "colab": {
          "base_uri": "https://localhost:8080/",
          "height": 35
        },
        "id": "q_Zzki5omX4m",
        "outputId": "537b9660-713a-44df-ab49-112130d28316"
      },
      "execution_count": 25,
      "outputs": [
        {
          "output_type": "execute_result",
          "data": {
            "text/plain": [
              "'2024-05-15 14:51:51.756241-04:00'"
            ],
            "application/vnd.google.colaboratory.intrinsic+json": {
              "type": "string"
            }
          },
          "metadata": {},
          "execution_count": 25
        }
      ]
    },
    {
      "cell_type": "code",
      "source": [
        "update_date = update_string.split(' ')[0]\n",
        "update_hour = update_string.split(' ')[1]"
      ],
      "metadata": {
        "id": "LFlbBxuemenS"
      },
      "execution_count": 29,
      "outputs": []
    },
    {
      "cell_type": "code",
      "source": [
        "# Log the update time\n",
        "properties = {\n",
        "    \"annotate\": {\n",
        "        \"notes\": \"Last update on {} at {} EST\".format(update_date, update_hour)\n",
        "    }\n",
        "}\n",
        "\n",
        "dw.update_chart(chart_id, metadata=properties)"
      ],
      "metadata": {
        "colab": {
          "base_uri": "https://localhost:8080/"
        },
        "id": "PqPn727JmVr-",
        "outputId": "600a2896-6dd5-48df-f557-ae662d668bbc"
      },
      "execution_count": 30,
      "outputs": [
        {
          "output_type": "execute_result",
          "data": {
            "text/plain": [
              "{'publicId': 'PY2O3',\n",
              " 'language': 'en-AP',\n",
              " 'theme': 'the-globe-and-mail',\n",
              " 'id': 'PY2O3',\n",
              " 'type': 'd3-lines',\n",
              " 'title': 'Consumer Price Index',\n",
              " 'lastEditStep': 5,\n",
              " 'publishedAt': '2024-05-15T18:46:28.000Z',\n",
              " 'publicUrl': 'https://charts.theglobeandmail.com/PY2O3/1/',\n",
              " 'publicVersion': 1,\n",
              " 'deleted': False,\n",
              " 'deletedAt': None,\n",
              " 'forkable': False,\n",
              " 'isFork': False,\n",
              " 'metadata': {'data': {'changes': [],\n",
              "   'transpose': False,\n",
              "   'vertical-header': True,\n",
              "   'horizontal-header': True,\n",
              "   'upload-method': 'copy'},\n",
              "  'describe': {'source-name': '',\n",
              "   'source-url': '',\n",
              "   'intro': '',\n",
              "   'byline': 'API test bot',\n",
              "   'aria-description': '',\n",
              "   'number-format': '-',\n",
              "   'number-divisor': 0,\n",
              "   'number-append': '',\n",
              "   'number-prepend': '',\n",
              "   'hide-title': False},\n",
              "  'visualize': {'dark-mode-invert': True,\n",
              "   'highlighted-series': [],\n",
              "   'highlighted-values': [],\n",
              "   'sharing': {'enabled': False},\n",
              "   'sort': {'by': 'end', 'enabled': False, 'reverse': False},\n",
              "   'lines': {'All-items': {'colorKey': True,\n",
              "     'directLabel': False,\n",
              "     'labelLastValue': True},\n",
              "    'All-items excluding food and energy': {'colorKey': True,\n",
              "     'directLabel': False,\n",
              "     'labelLastValue': True}},\n",
              "   'x-pos': 'zero',\n",
              "   'y-pos': 'zero',\n",
              "   'header': {'style': {'bold': False, 'color': False, 'fontSize': 1},\n",
              "    'borderBottom': '2px',\n",
              "    'borderBottomColor': '#e6e7e8'},\n",
              "   'x-grid': 'ticks',\n",
              "   'y-grid': 'on',\n",
              "   'scale-y': 'linear',\n",
              "   'areaFill': {},\n",
              "   'base-color': 0,\n",
              "   'gridLayout': 'fixedCount',\n",
              "   'bar-padding': 0,\n",
              "   'area-opacity': 1,\n",
              "   'label-colors': False,\n",
              "   'label-margin': 0,\n",
              "   'stack-to-100': False,\n",
              "   'interpolation': 'linear',\n",
              "   'show-tooltips': True,\n",
              "   'x-grid-format': 'auto',\n",
              "   'y-grid-format': '0%',\n",
              "   'y-grid-labels': 'auto',\n",
              "   'chart-type-set': True,\n",
              "   'custom-range-x': ['', ''],\n",
              "   'custom-range-y': ['', ''],\n",
              "   'custom-ticks-x': '',\n",
              "   'custom-ticks-y': '',\n",
              "   'plotHeightMode': 'fixed',\n",
              "   'variate-colors': False,\n",
              "   'connector-lines': True,\n",
              "   'gridColumnCount': 4,\n",
              "   'plotHeightFixed': 207,\n",
              "   'plotHeightRatio': 0.5,\n",
              "   'text-annotations': [],\n",
              "   'y-grid-subdivide': True,\n",
              "   'custom-area-fills': [],\n",
              "   'gridRowHeightMode': 'fixed',\n",
              "   'range-annotations': [],\n",
              "   'gridColumnMinWidth': 200,\n",
              "   'gridRowHeightFixed': 140,\n",
              "   'gridRowHeightRatio': 1,\n",
              "   'independentYScales': False,\n",
              "   'y-grid-label-align': 'left',\n",
              "   'area-separator-color': '#ffffff',\n",
              "   'area-separator-lines': True,\n",
              "   'lineColorPanelTitles': False,\n",
              "   'syncMultipleTooltips': True,\n",
              "   'xGridLabelAllColumns': False,\n",
              "   'yGridLabelAllColumns': False,\n",
              "   'gridColumnCountMobile': 2,\n",
              "   'value-label-alignment': 'right'},\n",
              "  'axes': {},\n",
              "  'publish': {'embed-width': 682,\n",
              "   'embed-height': 342,\n",
              "   'blocks': {'logo': {'enabled': False},\n",
              "    'embed': False,\n",
              "    'download-pdf': False,\n",
              "    'download-svg': False,\n",
              "    'get-the-data': False,\n",
              "    'download-image': False},\n",
              "   'export-pdf': {},\n",
              "   'embed-codes': {'embed-method-custom': '<iframe title=\"Consumer Price Index\" aria-label=\"Multiple Lines\" id=\"datawrapper-chart-PY2O3\" src=\"https://charts.theglobeandmail.com/PY2O3/1/\" scrolling=\"no\" frameborder=\"0\" style=\"width: 0; min-width: 100% !important; border: none; color-scheme: light dark;\" height=\"400\"></iframe><script type=\"text/javascript\">!function(){\"use strict\";window.addEventListener(\"message\",(function(a){if(void 0!==a.data[\"datawrapper-height\"]){var e=document.querySelectorAll(\"iframe\");for(var t in a.data[\"datawrapper-height\"])for(var r=0;r<e.length;r++)if(e[r].contentWindow===a.source){var i=a.data[\"datawrapper-height\"][t]+\"px\";e[r].style.height=i}}}))}();\\n</script>',\n",
              "    'embed-method-iframe': '<iframe title=\"Consumer Price Index\" aria-label=\"Multiple Lines\" id=\"datawrapper-chart-PY2O3\" src=\"https://charts.theglobeandmail.com/PY2O3/1/\" scrolling=\"no\" frameborder=\"0\" style=\"border: none;\" width=\"600\" height=\"400\" data-external=\"1\"></iframe>',\n",
              "    'embed-method-responsive': '<iframe title=\"Consumer Price Index\" aria-label=\"Multiple Lines\" id=\"datawrapper-chart-PY2O3\" src=\"https://charts.theglobeandmail.com/PY2O3/1/\" scrolling=\"no\" frameborder=\"0\" style=\"width: 0; min-width: 100% !important; border: none;\" height=\"400\" data-external=\"1\"></iframe><script type=\"text/javascript\">!function(){\"use strict\";window.addEventListener(\"message\",(function(a){if(void 0!==a.data[\"datawrapper-height\"]){var e=document.querySelectorAll(\"iframe\");for(var t in a.data[\"datawrapper-height\"])for(var r=0;r<e.length;r++)if(e[r].contentWindow===a.source){var i=a.data[\"datawrapper-height\"][t]+\"px\";e[r].style.height=i}}}))}();\\n</script>',\n",
              "    'embed-method-web-component': '<div style=\"min-height:400px\"><script type=\"text/javascript\" defer src=\"https://charts.theglobeandmail.com/PY2O3/embed.js?v=1\" charset=\"utf-8\"></script><noscript><img src=\"https://charts.theglobeandmail.com/PY2O3/full.png\" alt=\"\" /></noscript></div>'},\n",
              "   'chart-height': 276},\n",
              "  'annotate': {'notes': 'Last update on 2024-05-15 at 14:51:51 EST'},\n",
              "  'custom': {'slug': '', 'wordmark': True, 'watermark': False}},\n",
              " 'externalData': None,\n",
              " 'utf8': False,\n",
              " 'createdAt': '2024-05-15T18:45:55.000Z',\n",
              " 'lastModifiedAt': '2024-05-15T18:54:44.000Z',\n",
              " 'forkedFrom': None,\n",
              " 'organizationId': 'theglobeandmail',\n",
              " 'authorId': 556110,\n",
              " 'folderId': None,\n",
              " 'url': '/v3/charts/PY2O3'}"
            ]
          },
          "metadata": {},
          "execution_count": 30
        }
      ]
    }
  ]
}